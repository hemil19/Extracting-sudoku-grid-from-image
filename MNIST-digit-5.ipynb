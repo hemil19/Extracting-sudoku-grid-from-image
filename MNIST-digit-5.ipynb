{
 "cells": [
  {
   "cell_type": "markdown",
   "metadata": {},
   "source": [
    "# Importing Required Libraries"
   ]
  },
  {
   "cell_type": "code",
   "execution_count": 1,
   "metadata": {},
   "outputs": [
    {
     "name": "stderr",
     "output_type": "stream",
     "text": [
      "Using TensorFlow backend.\n"
     ]
    }
   ],
   "source": [
    "import pandas as pd\n",
    "import numpy as np\n",
    "import tensorflow as tf\n",
    "from tensorflow import keras\n",
    "import matplotlib.pyplot as plt\n",
    "%matplotlib inline\n",
    "from keras.preprocessing.image import ImageDataGenerator\n",
    "import warnings\n",
    "warnings.filterwarnings('ignore')\n",
    "import cv2\n",
    "from skimage.transform import resize  "
   ]
  },
  {
   "cell_type": "code",
   "execution_count": 2,
   "metadata": {},
   "outputs": [],
   "source": [
    "train_file=pd.read_csv('/Users/hemilshah/Downloads/mnistdigit/train.csv')"
   ]
  },
  {
   "cell_type": "code",
   "execution_count": 3,
   "metadata": {},
   "outputs": [
    {
     "data": {
      "image/png": "[encoded data removed]",
      "text/plain": [
       "<Figure size 288x288 with 1 Axes>"
      ]
     },
     "metadata": {
      "needs_background": "light"
     },
     "output_type": "display_data"
    }
   ],
   "source": [
    "def convert_format(path):\n",
    "  image = cv2.imread(path,0)\n",
    "  image=image/255.0\n",
    "  resized = resize(image, (28,28))\n",
    "  return resized\n",
    "plt.matshow(convert_format('/Users/hemilshah/Downloads/mnistdigit/Images/train/1.png'))\n",
    "plt.show()"
   ]
  },
  {
   "cell_type": "code",
   "execution_count": 4,
   "metadata": {},
   "outputs": [
    {
     "name": "stdout",
     "output_type": "stream",
     "text": [
      "(49000, 28, 28, 1) (49000, 10)\n"
     ]
    }
   ],
   "source": [
    "train_file=pd.read_csv('/Users/hemilshah/Downloads/mnistdigit/train.csv')\n",
    "listing=[]\n",
    "for i in range(0,len(train_file)):\n",
    "    listing.append(convert_format('/Users/hemilshah/Downloads/mnistdigit/Images/train/'+str(i)+'.png'))\n",
    "X=np.array(listing)\n",
    "X=X.reshape((-1,28,28,1))\n",
    "y=train_file['label'].values\n",
    "y=tf.keras.utils.to_categorical(y)\n",
    "print(X.shape,y.shape)"
   ]
  },
  {
   "cell_type": "code",
   "execution_count": null,
   "metadata": {},
   "outputs": [],
   "source": [
    "test_file=pd.read_csv('/Users/hemilshah/Downloads/mnistdigit/sample_submission.csv')\n",
    "k=test_file['filename'].values\n",
    "test_listing=[]\n",
    "for i in k:\n",
    "    test_listing.append(convert_format('/Users/hemilshah/Downloads/mnistdigit/Images/test/'+str(i)))\n",
    "test=np.array(test_listing)\n",
    "test=test.reshape((-1,28,28,1))\n",
    "print(test.shape)"
   ]
  },
  {
   "cell_type": "markdown",
   "metadata": {},
   "source": [
    "# CNN Model Building"
   ]
  },
  {
   "cell_type": "code",
   "execution_count": 6,
   "metadata": {},
   "outputs": [],
   "source": [
    "model = keras.models.Sequential()\n",
    "model.add(keras.layers.Conv2D(32, (5, 5), input_shape=X.shape[1:], activation='relu'))\n",
    "model.add(keras.layers.MaxPooling2D(pool_size=(2, 2)))\n",
    "model.add(keras.layers.Conv2D(16, (3, 3), activation='relu'))\n",
    "model.add(keras.layers.MaxPooling2D(pool_size=(2, 2)))\n",
    "model.add(keras.layers.Dropout(0.2))\n",
    "model.add(keras.layers.Flatten())\n",
    "model.add(keras.layers.Dense(128, activation='relu'))\n",
    "model.add(keras.layers.Dense(64, activation='relu'))\n",
    "model.add(keras.layers.Dense(10, activation='softmax'))\n",
    "optimizer = keras.optimizers.Adam()\n",
    "model.compile(loss='categorical_crossentropy',\n",
    "              metrics=['accuracy'],\n",
    "              optimizer=optimizer)"
   ]
  },
  {
   "cell_type": "code",
   "execution_count": 7,
   "metadata": {},
   "outputs": [
    {
     "name": "stdout",
     "output_type": "stream",
     "text": [
      "Model: \"sequential_1\"\n",
      "_________________________________________________________________\n",
      "Layer (type)                 Output Shape              Param #   \n",
      "=================================================================\n",
      "conv2d_2 (Conv2D)            (None, 24, 24, 32)        832       \n",
      "_________________________________________________________________\n",
      "max_pooling2d_2 (MaxPooling2 (None, 12, 12, 32)        0         \n",
      "_________________________________________________________________\n",
      "conv2d_3 (Conv2D)            (None, 10, 10, 16)        4624      \n",
      "_________________________________________________________________\n",
      "max_pooling2d_3 (MaxPooling2 (None, 5, 5, 16)          0         \n",
      "_________________________________________________________________\n",
      "dropout_1 (Dropout)          (None, 5, 5, 16)          0         \n",
      "_________________________________________________________________\n",
      "flatten_1 (Flatten)          (None, 400)               0         \n",
      "_________________________________________________________________\n",
      "dense_2 (Dense)              (None, 128)               51328     \n",
      "_________________________________________________________________\n",
      "dense_3 (Dense)              (None, 64)                8256      \n",
      "_________________________________________________________________\n",
      "dense_4 (Dense)              (None, 10)                650       \n",
      "=================================================================\n",
      "Total params: 65,690\n",
      "Trainable params: 65,690\n",
      "Non-trainable params: 0\n",
      "_________________________________________________________________\n"
     ]
    }
   ],
   "source": [
    "model.summary()"
   ]
  },
  {
   "cell_type": "code",
   "execution_count": 8,
   "metadata": {},
   "outputs": [
    {
     "name": "stdout",
     "output_type": "stream",
     "text": [
      "Train on 49000 samples\n",
      "Epoch 1/10\n",
      "49000/49000 [==============================] - 20s 401us/sample - loss: 0.2076 - accuracy: 0.9358\n",
      "Epoch 2/10\n",
      "49000/49000 [==============================] - 20s 400us/sample - loss: 0.0737 - accuracy: 0.9765\n",
      "Epoch 3/10\n",
      "49000/49000 [==============================] - 21s 431us/sample - loss: 0.0560 - accuracy: 0.9818\n",
      "Epoch 4/10\n",
      "49000/49000 [==============================] - 21s 432us/sample - loss: 0.0455 - accuracy: 0.9854\n",
      "Epoch 5/10\n",
      "49000/49000 [==============================] - 21s 437us/sample - loss: 0.0393 - accuracy: 0.9869\n",
      "Epoch 6/10\n",
      "49000/49000 [==============================] - 22s 441us/sample - loss: 0.0338 - accuracy: 0.9892\n",
      "Epoch 7/10\n",
      "49000/49000 [==============================] - 22s 444us/sample - loss: 0.0304 - accuracy: 0.9900\n",
      "Epoch 8/10\n",
      "49000/49000 [==============================] - 22s 443us/sample - loss: 0.0263 - accuracy: 0.9913\n",
      "Epoch 9/10\n",
      "49000/49000 [==============================] - 22s 448us/sample - loss: 0.0259 - accuracy: 0.9914\n",
      "Epoch 10/10\n",
      "49000/49000 [==============================] - 22s 451us/sample - loss: 0.0237 - accuracy: 0.9921\n"
     ]
    },
    {
     "data": {
      "text/plain": [
       "<tensorflow.python.keras.callbacks.History at 0x15d87dac8>"
      ]
     },
     "execution_count": 8,
     "metadata": {},
     "output_type": "execute_result"
    }
   ],
   "source": [
    "model.fit(X,y,epochs=10)"
   ]
  },
  {
   "cell_type": "code",
   "execution_count": 9,
   "metadata": {},
   "outputs": [
    {
     "name": "stderr",
     "output_type": "stream",
     "text": [
      "WARNING: Logging before flag parsing goes to stderr.\n",
      "W0615 11:19:46.474992 4400045504 deprecation.py:323] From <ipython-input-9-02fae56c4ee6>:7: Model.fit_generator (from tensorflow.python.keras.engine.training) is deprecated and will be removed in a future version.\n",
      "Instructions for updating:\n",
      "Please use Model.fit, which supports generators.\n",
      "W0615 11:19:46.542815 4400045504 data_adapter.py:1091] sample_weight modes were coerced from\n",
      "  ...\n",
      "    to  \n",
      "  ['...']\n",
      "W0615 11:19:46.612762 4400045504 data_adapter.py:1091] sample_weight modes were coerced from\n",
      "  ...\n",
      "    to  \n",
      "  ['...']\n"
     ]
    },
    {
     "name": "stdout",
     "output_type": "stream",
     "text": [
      "Train for 172 steps, validate for 19 steps\n",
      "Epoch 1/10\n",
      "172/172 [==============================] - 93s 542ms/step - loss: 0.3957 - accuracy: 0.8799 - val_loss: 7.7846 - val_accuracy: 0.1088\n",
      "Epoch 2/10\n",
      "172/172 [==============================] - 98s 572ms/step - loss: 0.1112 - accuracy: 0.9665 - val_loss: 3.6340 - val_accuracy: 0.2461\n",
      "Epoch 3/10\n",
      "172/172 [==============================] - 100s 583ms/step - loss: 0.0775 - accuracy: 0.9759 - val_loss: 0.1774 - val_accuracy: 0.9431\n",
      "Epoch 4/10\n",
      "172/172 [==============================] - 98s 568ms/step - loss: 0.0635 - accuracy: 0.9812 - val_loss: 0.0510 - val_accuracy: 0.9854\n",
      "Epoch 5/10\n",
      "172/172 [==============================] - 96s 559ms/step - loss: 0.0537 - accuracy: 0.9837 - val_loss: 0.0394 - val_accuracy: 0.9887\n",
      "Epoch 6/10\n",
      "172/172 [==============================] - 105s 608ms/step - loss: 0.0495 - accuracy: 0.9854 - val_loss: 0.0326 - val_accuracy: 0.9883\n",
      "Epoch 7/10\n",
      "172/172 [==============================] - 104s 604ms/step - loss: 0.0415 - accuracy: 0.9873 - val_loss: 0.0334 - val_accuracy: 0.9899\n",
      "Epoch 8/10\n",
      "172/172 [==============================] - 96s 556ms/step - loss: 0.0395 - accuracy: 0.9881 - val_loss: 0.0347 - val_accuracy: 0.9903\n",
      "Epoch 9/10\n",
      "172/172 [==============================] - 95s 552ms/step - loss: 0.0358 - accuracy: 0.9888 - val_loss: 0.0295 - val_accuracy: 0.9907\n",
      "Epoch 10/10\n",
      "172/172 [==============================] - 101s 586ms/step - loss: 0.0353 - accuracy: 0.9894 - val_loss: 0.0313 - val_accuracy: 0.9907\n"
     ]
    }
   ],
   "source": [
    "early_stop=keras.callbacks.EarlyStopping(monitor='val_loss',patience=3,restore_best_weights=True)\n",
    "history=model.fit_generator(training_generator,\n",
    "                            steps_per_epoch=44100//256,\n",
    "                            epochs=10,\n",
    "                            validation_steps=4900//256,\n",
    "                            validation_data=validation_generator,\n",
    "                            callbacks=[early_stop])"
   ]
  },
  {
   "cell_type": "code",
   "execution_count": 10,
   "metadata": {},
   "outputs": [
    {
     "data": {
      "image/png": "[encoded data removed]",
      "text/plain": [
       "<Figure size 432x288 with 1 Axes>"
      ]
     },
     "metadata": {
      "needs_background": "light"
     },
     "output_type": "display_data"
    },
    {
     "data": {
      "image/png": "[encoded data removed]",
      "text/plain": [
       "<Figure size 432x288 with 1 Axes>"
      ]
     },
     "metadata": {
      "needs_background": "light"
     },
     "output_type": "display_data"
    }
   ],
   "source": [
    "import matplotlib.pyplot as plt\n",
    "acc = history.history['accuracy']\n",
    "val_acc = history.history['val_accuracy']\n",
    "loss = history.history['loss']\n",
    "val_loss = history.history['val_loss']\n",
    "\n",
    "epochs = range(len(acc))\n",
    "\n",
    "plt.plot(epochs, acc, 'bo', label='Training accuracy')\n",
    "plt.plot(epochs, val_acc, 'b', label='Validation accuracy')\n",
    "plt.title('Training and validation accuracy')\n",
    "\n",
    "plt.figure()\n",
    "\n",
    "plt.plot(epochs, loss, 'bo', label='Training Loss')\n",
    "plt.plot(epochs, val_loss, 'b', label='Validation Loss')\n",
    "plt.title('Training and validation loss')\n",
    "plt.legend()\n",
    "\n",
    "plt.show()"
   ]
  },
  {
   "cell_type": "code",
   "execution_count": 11,
   "metadata": {},
   "outputs": [
    {
     "name": "stdout",
     "output_type": "stream",
     "text": [
      "4900/4900 [==============================] - 2s 481us/sample - loss: 0.0272 - accuracy: 0.9922\n"
     ]
    },
    {
     "data": {
      "text/plain": [
       "[0.02720301625229138, 0.9922449]"
      ]
     },
     "execution_count": 11,
     "metadata": {},
     "output_type": "execute_result"
    }
   ],
   "source": [
    "model.evaluate(X_test,y_test)"
   ]
  },
  {
   "cell_type": "code",
   "execution_count": 9,
   "metadata": {},
   "outputs": [],
   "source": [
    "model.save('mnist_sudokumodel.h5')"
   ]
  }
 ],
 "metadata": {
  "kernelspec": {
   "display_name": "Python 3",
   "language": "python",
   "name": "python3"
  },
  "language_info": {
   "codemirror_mode": {
    "name": "ipython",
    "version": 3
   },
   "file_extension": ".py",
   "mimetype": "text/x-python",
   "name": "python",
   "nbconvert_exporter": "python",
   "pygments_lexer": "ipython3",
   "version": "3.7.3"
  }
 },
 "nbformat": 4,
 "nbformat_minor": 2
}
